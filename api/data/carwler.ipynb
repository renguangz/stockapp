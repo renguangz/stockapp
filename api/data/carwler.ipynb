{
 "cells": [
  {
   "cell_type": "code",
   "execution_count": 5,
   "metadata": {},
   "outputs": [],
   "source": [
    "# change two place\n",
    "def get_balance_sheet(stock_id, start_year, end_year):\n",
    "    import pandas as pd\n",
    "    import sqlite3\n",
    "    import time\n",
    "    import requests\n",
    "    \n",
    "    balance_sheet_url = 'https://mops.twse.com.tw/mops/web/ajax_t164sb03'\n",
    "    income_statement_url = 'https://mops.twse.com.tw/mops/web/ajax_t164sb04'\n",
    "    cash_flows_url = 'https://mops.twse.com.tw/mops/web/ajax_t164sb05'\n",
    "    \n",
    "    url = balance_sheet_url # change 1\n",
    "    \n",
    "    year = range(start_year, end_year+1)\n",
    "    season = range(1, 5)\n",
    "    dfs = []\n",
    "    for y in year:\n",
    "        for s in season:\n",
    "            form_data = {\n",
    "                'encodeURIComponent': '',\n",
    "                'step': '1',\n",
    "                'firstin': '1',\n",
    "                'off': '1',\n",
    "                'queryName': 'co_id',\n",
    "                'inpuType': 'co_id',\n",
    "                'TYPEK': 'all',\n",
    "                'isnew': 'false',\n",
    "                'co_id': str(stock_id),\n",
    "                'year': str(y),\n",
    "                'season': str(s),\n",
    "            }\n",
    "\n",
    "            res = requests.post(url, data=form_data)\n",
    "            table = pd.read_html(res.text)[1]\n",
    "            table = table.iloc[:, 0:2]\n",
    "            table.columns = table.columns.get_level_values(2)\n",
    "            table = table.set_index('會計項目')\n",
    "            table = table[table.duplicated() == False]\n",
    "            dfs.append(table)\n",
    "            time.sleep(3)\n",
    "            \n",
    "    df_final = pd.DataFrame(columns=['會計項目'])\n",
    "    for df in dfs:\n",
    "        df_final = df_final.merge(df, how='outer', left_index=True, right_index=True)\n",
    "\n",
    "    df_final = df_final[df_final.index.duplicated() == False]\n",
    "    df_final = df_final.T.reset_index()\n",
    "    df_final = df_final.rename(columns={'index': 'date', '會計項目': 'index'})\n",
    "    df_final = df_final.shift(-1)\n",
    "    last_index = df_final.index.stop - 1\n",
    "    df_final = df_final.drop(axis=0, index=last_index)\n",
    "    conn = sqlite3.connect('balance_sheet.db') # change 2\n",
    "    df_final.to_sql('balance_' + str(stock_id), conn, if_exists='replace') # change 3\n",
    "    return df_final"
   ]
  },
  {
   "cell_type": "code",
   "execution_count": 6,
   "metadata": {},
   "outputs": [],
   "source": [
    "download_table = [1101, 2317, 2330, 2498]\n",
    "for d in download_table:\n",
    "    table = get_balance_sheet(d, 108, 109)\n",
    "# table\n",
    "# table_2317 = get_balance_sheet(2317, 102, 104)\n",
    "# table_2317"
   ]
  },
  {
   "cell_type": "code",
   "execution_count": null,
   "metadata": {},
   "outputs": [],
   "source": []
  }
 ],
 "metadata": {
  "kernelspec": {
   "display_name": "Python 3",
   "language": "python",
   "name": "python3"
  },
  "language_info": {
   "codemirror_mode": {
    "name": "ipython",
    "version": 3
   },
   "file_extension": ".py",
   "mimetype": "text/x-python",
   "name": "python",
   "nbconvert_exporter": "python",
   "pygments_lexer": "ipython3",
   "version": "3.7.6"
  }
 },
 "nbformat": 4,
 "nbformat_minor": 4
}
