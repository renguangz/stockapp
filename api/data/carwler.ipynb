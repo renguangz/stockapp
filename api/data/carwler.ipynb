{
 "cells": [
  {
   "cell_type": "code",
   "execution_count": 17,
   "metadata": {},
   "outputs": [],
   "source": [
    "# change two place\n",
    "def get_balance_sheet(stock_id, start_year, end_year):\n",
    "    import pandas as pd\n",
    "    import sqlite3\n",
    "    import time\n",
    "    import requests\n",
    "    \n",
    "    balance_sheet_url = 'https://mops.twse.com.tw/mops/web/ajax_t164sb03'\n",
    "    income_statement_url = 'https://mops.twse.com.tw/mops/web/ajax_t164sb04'\n",
    "    cash_flows_url = 'https://mops.twse.com.tw/mops/web/ajax_t164sb05'\n",
    "    \n",
    "    url = cash_flows_url # change 1\n",
    "    \n",
    "    year = range(start_year, end_year+1)\n",
    "    season = range(1, 5)\n",
    "    dfs = []\n",
    "    for y in year:\n",
    "        for s in season:\n",
    "            form_data = {\n",
    "                'encodeURIComponent': '',\n",
    "                'step': '1',\n",
    "                'firstin': '1',\n",
    "                'off': '1',\n",
    "                'queryName': 'co_id',\n",
    "                'inpuType': 'co_id',\n",
    "                'TYPEK': 'all',\n",
    "                'isnew': 'false',\n",
    "                'co_id': str(stock_id),\n",
    "                'year': str(y),\n",
    "                'season': str(s),\n",
    "            }\n",
    "\n",
    "            res = requests.post(url, data=form_data)\n",
    "            table = pd.read_html(res.text)[1]\n",
    "            table = table.iloc[:, 0:2]\n",
    "            table.columns = table.columns.get_level_values(2)\n",
    "            table = table.set_index('會計項目')\n",
    "            table = table[table.duplicated() == False]\n",
    "            dfs.append(table)\n",
    "            time.sleep(3)\n",
    "            \n",
    "    df_final = pd.DataFrame(columns=['會計項目'])\n",
    "    for df in dfs:\n",
    "        df_final = df_final.merge(df, how='outer', left_index=True, right_index=True)\n",
    "\n",
    "    df_final = df_final[df_final.index.duplicated() == False]\n",
    "    df_final = df_final.T.reset_index()\n",
    "    df_final = df_final.rename(columns={'index': 'date', '會計項目': 'index'})\n",
    "    df_final = df_final.shift(-1)\n",
    "    last_index = df_final.index.stop - 1\n",
    "    df_final = df_final.drop(axis=0, index=last_index)\n",
    "    conn = sqlite3.connect('balance_sheet.db') # change 2\n",
    "#     df_final.to_sql('_' + str(stock_id), conn, if_exists='replace')\n",
    "    return df_final"
   ]
  },
  {
   "cell_type": "code",
   "execution_count": 18,
   "metadata": {},
   "outputs": [],
   "source": [
    "download_table = [1101, 2317, 2330, 2498]\n",
    "for d in download_table:\n",
    "    table = get_balance_sheet(d, 108, 109)\n",
    "# table\n",
    "# table_2317 = get_balance_sheet(2317, 102, 104)\n",
    "# table_2317"
   ]
  },
  {
   "cell_type": "code",
   "execution_count": 19,
   "metadata": {},
   "outputs": [
    {
     "data": {
      "text/plain": [
       "Index(['date', '其他應付款增加（減少）', '其他應收款（增加）減少', '其他流動負債增加（減少）', '其他流動資產（增加）減少',\n",
       "       '其他營業資產（增加）減少', '其他金融資產增加', '其他金融資產減少', '其他項目', '利息收入', '利息費用',\n",
       "       '匯率變動對現金及約當現金之影響', '取得不動產、廠房及設備', '取得投資性不動產', '取得採用權益法之投資', '取得無形資產',\n",
       "       '取得透過其他綜合損益按公允價值衡量之金融資產', '取得透過損益按公允價值衡量之金融資產', '存入保證金增加', '存入保證金減少',\n",
       "       '存出保證金減少', '存貨（增加）減少', '強制透過損益按公允價值衡量之金融資產（增加）減少', '應付帳款增加（減少）',\n",
       "       '應收帳款（增加）減少', '投資活動之淨現金流入（流出）', '折舊費用', '採用權益法認列之關聯企業及合資損失（利益）之份額',\n",
       "       '攤銷費用', '支付之利息', '收取之利息', '收取之股利', '收益費損項目合計', '期初現金及約當現金餘額',\n",
       "       '期末現金及約當現金餘額', '本期現金及約當現金增加（減少）數', '營業活動之淨現金流入（流出）', '營業活動之現金流量－間接法',\n",
       "       '營運產生之現金流入（流出）', '發放現金股利', '短期借款增加', '租賃本金償還', '籌資活動之淨現金流入（流出）',\n",
       "       '繼續營業單位稅前淨利（淨損）', '股份基礎給付酬勞成本', '股利收入', '與營業活動相關之負債之淨變動合計',\n",
       "       '與營業活動相關之資產之淨變動合計', '與營業活動相關之資產及負債之淨變動合計', '處分不動產、廠房及設備',\n",
       "       '處分其他資產損失（利益）', '處分及報廢不動產、廠房及設備損失（利益）', '處分無形資產', '處分無形資產損失（利益）',\n",
       "       '處分透過其他綜合損益按公允價值衡量之金融資產', '調整項目合計', '負債準備增加（減少）', '退還（支付）之所得稅',\n",
       "       '透過其他綜合損益按公允價值衡量之金融資產減資退回股款', '非控制權益變動', '非金融資產減損損失', '非金融資產減損迴轉利益',\n",
       "       '預付款項（增加）減少', '預期信用減損損失（利益）數∕呆帳費用提列（轉列收入）數'],\n",
       "      dtype='object', name='會計項目')"
      ]
     },
     "execution_count": 19,
     "metadata": {},
     "output_type": "execute_result"
    }
   ],
   "source": [
    "table.columns"
   ]
  },
  {
   "cell_type": "code",
   "execution_count": null,
   "metadata": {},
   "outputs": [],
   "source": []
  }
 ],
 "metadata": {
  "kernelspec": {
   "display_name": "Python 3",
   "language": "python",
   "name": "python3"
  },
  "language_info": {
   "codemirror_mode": {
    "name": "ipython",
    "version": 3
   },
   "file_extension": ".py",
   "mimetype": "text/x-python",
   "name": "python",
   "nbconvert_exporter": "python",
   "pygments_lexer": "ipython3",
   "version": "3.7.6"
  }
 },
 "nbformat": 4,
 "nbformat_minor": 4
}
